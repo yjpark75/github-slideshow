{
  "nbformat": 4,
  "nbformat_minor": 0,
  "metadata": {
    "kernelspec": {
      "display_name": "Python 3",
      "language": "python",
      "name": "python3"
    },
    "language_info": {
      "codemirror_mode": {
        "name": "ipython",
        "version": 3
      },
      "file_extension": ".py",
      "mimetype": "text/x-python",
      "name": "python",
      "nbconvert_exporter": "python",
      "pygments_lexer": "ipython3",
      "version": "3.6.4"
    },
    "colab": {
      "name": "CNN_Tensorflow.ipynb",
      "provenance": [],
      "include_colab_link": true
    }
  },
  "cells": [
    {
      "cell_type": "markdown",
      "metadata": {
        "id": "view-in-github",
        "colab_type": "text"
      },
      "source": [
        "<a href=\"https://colab.research.google.com/github/yjpark75/github-slideshow/blob/master/src/CNN_Tensorflow.ipynb\" target=\"_parent\"><img src=\"https://colab.research.google.com/assets/colab-badge.svg\" alt=\"Open In Colab\"/></a>"
      ]
    },
    {
      "cell_type": "markdown",
      "metadata": {
        "id": "gd6LXKCnfxAe"
      },
      "source": [
        "# CNN (Convolutional Neural Network)\n",
        "We will implement very basic CNN with MNIST dataset."
      ]
    },
    {
      "cell_type": "code",
      "metadata": {
        "id": "Ap2R06YafxAi"
      },
      "source": [
        "from IPython.display import Image"
      ],
      "execution_count": null,
      "outputs": []
    },
    {
      "cell_type": "markdown",
      "metadata": {
        "id": "B4hVpi4FfxAj"
      },
      "source": [
        "## Why CNN for image recognition?\n",
        "Think about you use MLP (multi layer perceptron) for image recognition.  \n",
        "You can recall how MLP works from below picture.  \n",
        "MLP changes image shape from 2d(matrix) to 1d(array) and fully connect all nodes to get prediction.  \n",
        "Take a moment to see difference between two different inputs in which both target numbers are equally '2'"
      ]
    },
    {
      "cell_type": "code",
      "metadata": {
        "id": "ozkSz5P5fxAj",
        "outputId": "64e1dd83-70d9-4293-b74c-43deb398ff79"
      },
      "source": [
        "Image(url= \"https://raw.githubusercontent.com/minsuk-heo/deeplearning/master/img/mlp_overview.png\", width=500, height=250)"
      ],
      "execution_count": null,
      "outputs": [
        {
          "output_type": "execute_result",
          "data": {
            "text/html": [
              "<img src=\"https://raw.githubusercontent.com/minsuk-heo/deeplearning/master/img/mlp_overview.png\" width=\"500\" height=\"250\"/>"
            ],
            "text/plain": [
              "<IPython.core.display.Image object>"
            ]
          },
          "metadata": {
            "tags": []
          },
          "execution_count": 2
        }
      ]
    },
    {
      "cell_type": "code",
      "metadata": {
        "id": "-jmsa3FmfxAl",
        "outputId": "1ae9cf41-ff38-48b0-fa55-04ead9ba7b97"
      },
      "source": [
        "Image(url= \"https://raw.githubusercontent.com/minsuk-heo/deeplearning/master/img/mlp_overview2.png\", width=500, height=250)"
      ],
      "execution_count": null,
      "outputs": [
        {
          "output_type": "execute_result",
          "data": {
            "text/html": [
              "<img src=\"https://raw.githubusercontent.com/minsuk-heo/deeplearning/master/img/mlp_overview2.png\" width=\"500\" height=\"250\"/>"
            ],
            "text/plain": [
              "<IPython.core.display.Image object>"
            ]
          },
          "metadata": {
            "tags": []
          },
          "execution_count": 3
        }
      ]
    },
    {
      "cell_type": "markdown",
      "metadata": {
        "id": "_hg0FMdhfxAl"
      },
      "source": [
        "Even though they have same target number('2'), as you can see the **input arrays are very different.**  \n",
        "Since MLP only knows input array, it is hard for MLP to learn these two numbers have same target.  \n",
        "As a solution for this, you can introduce more nodes in the MLP, but this solution easily results in high computation, longer train.\n",
        "\n",
        "MLP's issue:  \n",
        "1) when number is written in different pixels, input for MLP is totally different.    \n",
        "2) having many nodes results in high computation and longer train time."
      ]
    },
    {
      "cell_type": "markdown",
      "metadata": {
        "id": "yFhIEQPyfxAm"
      },
      "source": [
        "## How do you recognize a thing?\n",
        "In order to resolve MLP's issue, let's think how we actually recognize a number.  \n",
        "If you look at number '2', how do you know it is 2?  \n",
        "Your brain consciously or inconsciously recognize head and tail of number 2 and diagonal connector between head and tail, just like below pictures. "
      ]
    },
    {
      "cell_type": "code",
      "metadata": {
        "id": "5L9vjsccfxAm",
        "outputId": "64fa9fe5-53fc-4e98-945b-0dc6ef1aa03a"
      },
      "source": [
        "Image(url= \"https://raw.githubusercontent.com/minsuk-heo/deeplearning/master/img/cnn_filter.png\", width=500, height=250)"
      ],
      "execution_count": null,
      "outputs": [
        {
          "output_type": "execute_result",
          "data": {
            "text/html": [
              "<img src=\"https://raw.githubusercontent.com/minsuk-heo/deeplearning/master/img/cnn_filter.png\" width=\"500\" height=\"250\"/>"
            ],
            "text/plain": [
              "<IPython.core.display.Image object>"
            ]
          },
          "metadata": {
            "tags": []
          },
          "execution_count": 4
        }
      ]
    },
    {
      "cell_type": "markdown",
      "metadata": {
        "id": "-u0ojRUSfxAn"
      },
      "source": [
        "## CNN is recognizing a thing just like you!\n",
        "CNN recognize an object just like you. CNN is trained to capture features of object (in this case, head, tail, connector, edge) and recognize the number."
      ]
    },
    {
      "cell_type": "markdown",
      "metadata": {
        "id": "dyuiuuSffxAo"
      },
      "source": [
        "## How CNN identify features?\n",
        "In contrast to MLP, CNN uses 2 dimension information in order to capture local connectivity such as head, tail, connector.  \n",
        "\n",
        "here is how CNN finds features of object.\n",
        "\n"
      ]
    },
    {
      "cell_type": "code",
      "metadata": {
        "id": "LD0ZE8g7fxAo",
        "outputId": "5d71dbd5-bdec-43b0-eb25-2ddbb23547e2"
      },
      "source": [
        "Image(url= \"https://raw.githubusercontent.com/minsuk-heo/deeplearning/master/img/stride.png\", width=500, height=250)"
      ],
      "execution_count": null,
      "outputs": [
        {
          "output_type": "execute_result",
          "data": {
            "text/html": [
              "<img src=\"https://raw.githubusercontent.com/minsuk-heo/deeplearning/master/img/stride.png\" width=\"500\" height=\"250\"/>"
            ],
            "text/plain": [
              "<IPython.core.display.Image object>"
            ]
          },
          "metadata": {
            "tags": []
          },
          "execution_count": 5
        }
      ]
    },
    {
      "cell_type": "markdown",
      "metadata": {
        "id": "wL87lRikfxAp"
      },
      "source": [
        "### stride, filter, receptive field\n",
        "As you can see from above picture, CNN slides filter from the top left to the bottom right.  \n",
        "Sliding filter is called **stride**.    \n",
        "**Filter** is feature identifier, sometimes called **kernel**,  \n",
        "and we call the area where filter stays a **receptive field**.  \n",
        "the filter from above picture is to identify diagonal connected pixel.  \n",
        "\n",
        "From below picture, you can see the filter detects two diagonal connected pixels from left input (digit 2),  \n",
        "while there is no diagonal connected pixels frin right input (digit 1)."
      ]
    },
    {
      "cell_type": "code",
      "metadata": {
        "id": "LxLQ3Fd_fxAp",
        "outputId": "f30a74e5-797a-492f-8536-869a6b9e2fb0"
      },
      "source": [
        "Image(url= \"https://raw.githubusercontent.com/minsuk-heo/deeplearning/master/img/filter_diff.png\", width=500, height=250)"
      ],
      "execution_count": null,
      "outputs": [
        {
          "output_type": "execute_result",
          "data": {
            "text/html": [
              "<img src=\"https://raw.githubusercontent.com/minsuk-heo/deeplearning/master/img/filter_diff.png\" width=\"500\" height=\"250\"/>"
            ],
            "text/plain": [
              "<IPython.core.display.Image object>"
            ]
          },
          "metadata": {
            "tags": []
          },
          "execution_count": 6
        }
      ]
    },
    {
      "cell_type": "markdown",
      "metadata": {
        "id": "t160PvXjfxAp"
      },
      "source": [
        "As you know CNN is just mathmetical model, we haven't talk math behind intuitive example.  \n",
        "Suppose our image is gray scale image, the pixel will be represented number between 0 to 255.  \n",
        "0 means white color and 255 means black color just like below picture.  "
      ]
    },
    {
      "cell_type": "code",
      "metadata": {
        "id": "P7jds9LjfxAq",
        "outputId": "c21e3b24-cdd6-46aa-a108-d59136fa3f2d"
      },
      "source": [
        "Image(url= \"https://raw.githubusercontent.com/minsuk-heo/deeplearning/master/img/elem_mul.png\", width=500, height=250)"
      ],
      "execution_count": null,
      "outputs": [
        {
          "output_type": "execute_result",
          "data": {
            "text/html": [
              "<img src=\"https://raw.githubusercontent.com/minsuk-heo/deeplearning/master/img/elem_mul.png\" width=\"500\" height=\"250\"/>"
            ],
            "text/plain": [
              "<IPython.core.display.Image object>"
            ]
          },
          "metadata": {
            "tags": []
          },
          "execution_count": 7
        }
      ]
    },
    {
      "cell_type": "markdown",
      "metadata": {
        "id": "mc5RDa3lfxAq"
      },
      "source": [
        "As you can see from above pictures, the filter detects feature by element-wise multiplication of filter and receptive field numbers.  \n",
        "Larger number means the area has more chance to have the feature,  \n",
        "Less number means the area has less chance to have the feature."
      ]
    },
    {
      "cell_type": "markdown",
      "metadata": {
        "id": "9rSBvTGyfxAq"
      },
      "source": [
        "In order to detect your target, for example, here to detect number between 0 to 9,  \n",
        "you will need more filters such as straight line, vertical line, curve line.  \n",
        "your **first convolutional layer** will detect these essential features and  \n",
        "the **next convolutional layers** can detect more high level such as circle, triangle, rectangle based on the previous detected features.  \n",
        "After detecting all features, these features will be input to MLP (full connected layers) and end up with softmax to classify input to target value."
      ]
    },
    {
      "cell_type": "markdown",
      "metadata": {
        "id": "CzaNM9L0fxAr"
      },
      "source": [
        "here is one of famous CNN architecture from Stanford CNN lecture slide."
      ]
    },
    {
      "cell_type": "code",
      "metadata": {
        "id": "Sd-5SX1ffxAr",
        "outputId": "d9a25d33-cfc6-4da5-ce2a-b66bb15493f4"
      },
      "source": [
        "Image(url= \"https://raw.githubusercontent.com/minsuk-heo/deeplearning/master/img/cnn_architecture.png\", width=500, height=250)"
      ],
      "execution_count": null,
      "outputs": [
        {
          "output_type": "execute_result",
          "data": {
            "text/html": [
              "<img src=\"https://raw.githubusercontent.com/minsuk-heo/deeplearning/master/img/cnn_architecture.png\" width=\"500\" height=\"250\"/>"
            ],
            "text/plain": [
              "<IPython.core.display.Image object>"
            ]
          },
          "metadata": {
            "tags": []
          },
          "execution_count": 8
        }
      ]
    },
    {
      "cell_type": "markdown",
      "metadata": {
        "id": "cjqZ4ebVfxAr"
      },
      "source": [
        "citation:\n",
        "source from http://cs231n.github.io/convolutional-networks/"
      ]
    },
    {
      "cell_type": "markdown",
      "metadata": {
        "id": "loA5fdb0fxAr"
      },
      "source": [
        "CONV stands for convolutioal layer which we have learned so far.  \n",
        "Also you can find FC which is fully connected layer for classifying input to given target.\n",
        "In this picture, you can see RELU as activation function of convolutional layer. we will also use RELU for our tensorflow practice in this jupyter notebook.  \n",
        "\n",
        "The only one term we haven't talk is POOL which is pooling layer."
      ]
    },
    {
      "cell_type": "markdown",
      "metadata": {
        "id": "to_mGQ8sfxAs"
      },
      "source": [
        "### pulling layer\n",
        "The main purpose of having pulling layer is to reduce parameters and computtations of CNN model.  \n",
        "Therefore, controlling overfitting.\n",
        "\n",
        "From our stride example of digit 2 (when stride is 1),  \n",
        "the output of stride of the diagonal filter (we call it **feature map**) is below,  \n",
        "FYI, Relu(feature map) is called a **actvation map**."
      ]
    },
    {
      "cell_type": "code",
      "metadata": {
        "id": "Mg9uXSoFfxAs",
        "outputId": "f416892d-2532-47d6-e454-e3fdcede565a"
      },
      "source": [
        "Image(url= \"https://raw.githubusercontent.com/minsuk-heo/deeplearning/master/img/stride_result.png\", width=500, height=250)"
      ],
      "execution_count": null,
      "outputs": [
        {
          "output_type": "execute_result",
          "data": {
            "text/html": [
              "<img src=\"https://raw.githubusercontent.com/minsuk-heo/deeplearning/master/img/stride_result.png\" width=\"500\" height=\"250\"/>"
            ],
            "text/plain": [
              "<IPython.core.display.Image object>"
            ]
          },
          "metadata": {
            "tags": []
          },
          "execution_count": 9
        }
      ]
    },
    {
      "cell_type": "markdown",
      "metadata": {
        "id": "DDOOv5QUfxAt"
      },
      "source": [
        "When you apply pooling, you can use either **max pooling** or **average pooling**.  \n",
        "Here is an example of max pooling (2*2 filter and stride 2)."
      ]
    },
    {
      "cell_type": "code",
      "metadata": {
        "id": "D4ZUIN-ifxAt",
        "outputId": "163d49b9-e937-4a13-b205-e4f963a5cfc1"
      },
      "source": [
        "Image(url= \"https://raw.githubusercontent.com/minsuk-heo/deeplearning/master/img/max_pool.png\", width=500, height=250)"
      ],
      "execution_count": null,
      "outputs": [
        {
          "output_type": "execute_result",
          "data": {
            "text/html": [
              "<img src=\"https://raw.githubusercontent.com/minsuk-heo/deeplearning/master/img/max_pool.png\" width=\"500\" height=\"250\"/>"
            ],
            "text/plain": [
              "<IPython.core.display.Image object>"
            ]
          },
          "metadata": {
            "tags": []
          },
          "execution_count": 10
        }
      ]
    },
    {
      "cell_type": "markdown",
      "metadata": {
        "id": "hzha6Kl7fxAt"
      },
      "source": [
        "As you can see, the output of convolutional layer decreased from (4 x 4) to (2 x 2).  \n",
        "Decreasing feature map results in reducing the number of parameters and computation time.  \n",
        "Also by reducing the number of parameters, it gives control of **overfitting**."
      ]
    },
    {
      "cell_type": "markdown",
      "metadata": {
        "id": "ODY4qsZhfxAu"
      },
      "source": [
        "### zero padding\n",
        "Lastly, I should give you insights of zero padding while it is not shown at Stanford CNN architecture diagram.  \n",
        "Zero padding is mostly applied on recent CNN with mainly two reasons below,  \n",
        "1) reduce information loss from convolutional layer.   \n",
        "2) let the CNN knows where is the boundary of the input."
      ]
    },
    {
      "cell_type": "markdown",
      "metadata": {
        "id": "hrByBK_RfxAu"
      },
      "source": [
        "Let's revisit convolutional layer. As you can see from below image,  \n",
        "The output dimension (4 x 4) is less than input dimension (5 x 5). That said, we lose some info at each convonlutional layer."
      ]
    },
    {
      "cell_type": "code",
      "metadata": {
        "id": "plXDc9EnfxAu",
        "outputId": "572ac1a2-429a-4c55-b576-9e373d7c41df"
      },
      "source": [
        "Image(url= \"https://raw.githubusercontent.com/minsuk-heo/deeplearning/master/img/zeropadding1.png\", width=500, height=250)"
      ],
      "execution_count": null,
      "outputs": [
        {
          "output_type": "execute_result",
          "data": {
            "text/html": [
              "<img src=\"https://raw.githubusercontent.com/minsuk-heo/deeplearning/master/img/zeropadding1.png\" width=\"500\" height=\"250\"/>"
            ],
            "text/plain": [
              "<IPython.core.display.Image object>"
            ]
          },
          "metadata": {
            "tags": []
          },
          "execution_count": 11
        }
      ]
    },
    {
      "cell_type": "markdown",
      "metadata": {
        "id": "H_0wPtrufxAu"
      },
      "source": [
        "Take a look below picture. Zero Padding gives more space to stride.  \n",
        "If your filter size is (3 X 3) and stride 1 pixel at a time, the output dimension will be (5 x 5)  \n",
        "which is exactly same with original input."
      ]
    },
    {
      "cell_type": "code",
      "metadata": {
        "id": "DCUp4fI-fxAv",
        "outputId": "a7a28828-3eed-443b-86ff-36e0fd688477"
      },
      "source": [
        "Image(url= \"https://raw.githubusercontent.com/minsuk-heo/deeplearning/master/img/zeropadding.png\", width=500, height=250)"
      ],
      "execution_count": null,
      "outputs": [
        {
          "output_type": "execute_result",
          "data": {
            "text/html": [
              "<img src=\"https://raw.githubusercontent.com/minsuk-heo/deeplearning/master/img/zeropadding.png\" width=\"500\" height=\"250\"/>"
            ],
            "text/plain": [
              "<IPython.core.display.Image object>"
            ]
          },
          "metadata": {
            "tags": []
          },
          "execution_count": 12
        }
      ]
    },
    {
      "cell_type": "markdown",
      "metadata": {
        "id": "LpLS61v_fxAv"
      },
      "source": [
        "### what if image is color image?"
      ]
    },
    {
      "cell_type": "markdown",
      "metadata": {
        "id": "IOuMzZa5fxAv"
      },
      "source": [
        "In this Jupyter Notebook, I use MNIST which is gray scale image, however there are a lot more chance you will handle color image which is composed with RGB color. This is very easy problem if you think color image is just overlapped three layers.  \n",
        "if you have 10 gray scale image which is 28 * 28 pixel, your input tensor is (10,28,28,1). because you only have one color.  \n",
        "if you have 10 RGB color image which is 28 * 28 pixel, your input tensor is (10,28,28,3).  because you have three colors."
      ]
    },
    {
      "cell_type": "code",
      "metadata": {
        "id": "N8_W6ySufxAv",
        "outputId": "4e1eba59-f0cf-4b23-90ce-834b7e6f0d8c"
      },
      "source": [
        "Image(url= \"https://raw.githubusercontent.com/minsuk-heo/deeplearning/master/img/rgb.png\", width=500, height=250)"
      ],
      "execution_count": null,
      "outputs": [
        {
          "output_type": "execute_result",
          "data": {
            "text/html": [
              "<img src=\"https://raw.githubusercontent.com/minsuk-heo/deeplearning/master/img/rgb.png\" width=\"500\" height=\"250\"/>"
            ],
            "text/plain": [
              "<IPython.core.display.Image object>"
            ]
          },
          "metadata": {
            "tags": []
          },
          "execution_count": 13
        }
      ]
    },
    {
      "cell_type": "markdown",
      "metadata": {
        "id": "tpUKIRm2fxAv"
      },
      "source": [
        "from above picture, you can double check the color image is just overlapped three color layers.  \n",
        "We call the overlapped layers a **depth**.\n",
        "let's take a look how one filter work on three color layers from below image.  \n",
        "You can find one filter has three sub filters. sub filters will stride and each stide will be summed up (plus bias) to one pixel in a feature map."
      ]
    },
    {
      "cell_type": "code",
      "metadata": {
        "id": "3ihDQMXSfxAw",
        "outputId": "11890ca4-783e-4363-b57f-760836d1a8bd"
      },
      "source": [
        "Image(url= \"https://raw.githubusercontent.com/minsuk-heo/deeplearning/master/img/rgb1.png\", width=500, height=250)"
      ],
      "execution_count": null,
      "outputs": [
        {
          "output_type": "execute_result",
          "data": {
            "text/html": [
              "<img src=\"https://raw.githubusercontent.com/minsuk-heo/deeplearning/master/img/rgb1.png\" width=\"500\" height=\"250\"/>"
            ],
            "text/plain": [
              "<IPython.core.display.Image object>"
            ]
          },
          "metadata": {
            "tags": []
          },
          "execution_count": 14
        }
      ]
    },
    {
      "cell_type": "code",
      "metadata": {
        "id": "c5_SwqK9fxAw",
        "outputId": "de1d4345-548c-4e01-a3e3-4f2ce512d5a2"
      },
      "source": [
        "Image(url= \"https://raw.githubusercontent.com/minsuk-heo/deeplearning/master/img/rgb2.png\", width=500, height=250)"
      ],
      "execution_count": null,
      "outputs": [
        {
          "output_type": "execute_result",
          "data": {
            "text/html": [
              "<img src=\"https://raw.githubusercontent.com/minsuk-heo/deeplearning/master/img/rgb2.png\" width=\"500\" height=\"250\"/>"
            ],
            "text/plain": [
              "<IPython.core.display.Image object>"
            ]
          },
          "metadata": {
            "tags": []
          },
          "execution_count": 15
        }
      ]
    },
    {
      "cell_type": "markdown",
      "metadata": {
        "id": "IG8xETp1fxAw"
      },
      "source": [
        "As you can see from above picture, each filter output is one feature map.  \n",
        "Therefore, if you have 10 filters at first convolutional layer, the next layer's input will have **depth** 10."
      ]
    },
    {
      "cell_type": "markdown",
      "metadata": {
        "id": "1ZjQSA1CfxAw"
      },
      "source": [
        "## Train\n",
        "Let's resume entire CNN architecture to talk about Training."
      ]
    },
    {
      "cell_type": "code",
      "metadata": {
        "id": "fkw9H_mDfxAx",
        "outputId": "9c9646d5-763f-4799-ae17-39deac5e3149"
      },
      "source": [
        "Image(url= \"https://raw.githubusercontent.com/minsuk-heo/deeplearning/master/img/cnn_train.png\", width=500, height=250)"
      ],
      "execution_count": null,
      "outputs": [
        {
          "output_type": "execute_result",
          "data": {
            "text/html": [
              "<img src=\"https://raw.githubusercontent.com/minsuk-heo/deeplearning/master/img/cnn_train.png\" width=\"500\" height=\"250\"/>"
            ],
            "text/plain": [
              "<IPython.core.display.Image object>"
            ]
          },
          "metadata": {
            "tags": []
          },
          "execution_count": 16
        }
      ]
    },
    {
      "cell_type": "markdown",
      "metadata": {
        "id": "9efYo_1VfxAx"
      },
      "source": [
        "As you can see from above picture, if input is color image, the depth is 3, that is why you can see three layer at the input.  \n",
        "First Convolution layer has four filters that is why you have four layers at Conv1.  \n",
        "Second Convolution layer has three filters that is why you have three layers at Conv2.\n",
        "Pooling layer has stride size 2, that is why you have (2 x 2) feature maps.  \n",
        "Flatten will have 2 x 2 x 3 = 12 values in an array as an input to fully connected layer.  \n",
        "Theorically, convolution layers identify features.  \n",
        "Fully Connected Layer classify input using all identified features.  \n",
        "CNN is supervised learning, by giving target value, CNN will use back propagation to optimize parameters at convolution layers, fully connected layer."
      ]
    },
    {
      "cell_type": "markdown",
      "metadata": {
        "id": "0RPbmtcLfxAx"
      },
      "source": [
        "### Parameter Optimization\n",
        "The purpose of training is to optimize parameters of filter and parameters of fully connected layer(FC).  \n",
        "Initially we give random value for these parameters, but the CNN keep update parameters using backpropagation in order to have meaningful filters an FC.  \n",
        "Yes, initially the CNN even don't know which filter to have (head, tail, diagonal connector), the CNN will automatically know which filter to have during training.  \n",
        "By minimizing the difference between target and output, the CNN will eventually have meaningful filters (head, tail, diagonal connector, round, triangle) and also meaningful classifier with these feature maps.  \n",
        "Parameters (W in the below picture) can be optimized using gradience descent algorithm by minimizing difference between target and output (Loss in the below picture). The local minimum value of Loss is where derivative Loss with respect to W is 0. Therefore everytime we update W, we slightly update W with negative direction of derivative and find local minimum. "
      ]
    },
    {
      "cell_type": "code",
      "metadata": {
        "id": "l1NmYEV2fxAx",
        "outputId": "4b12cec8-1b9d-4a0b-91c0-3d256dc27673"
      },
      "source": [
        "Image(url= \"https://raw.githubusercontent.com/minsuk-heo/deeplearning/master/img/sgd.png\", width=300, height=150)"
      ],
      "execution_count": null,
      "outputs": [
        {
          "output_type": "execute_result",
          "data": {
            "text/html": [
              "<img src=\"https://raw.githubusercontent.com/minsuk-heo/deeplearning/master/img/sgd.png\" width=\"300\" height=\"150\"/>"
            ],
            "text/plain": [
              "<IPython.core.display.Image object>"
            ]
          },
          "metadata": {
            "tags": []
          },
          "execution_count": 17
        }
      ]
    },
    {
      "cell_type": "markdown",
      "metadata": {
        "id": "-IVdPIUsfxAy"
      },
      "source": [
        "## Tensorflow implementation\n",
        "Let's implement CNN using Tensorflow for identify handwritten number in MNIST dataset."
      ]
    },
    {
      "cell_type": "code",
      "metadata": {
        "id": "U_RD0cHifxAy",
        "outputId": "f10ec22d-c4df-41a1-c4c2-112852ca6f4a"
      },
      "source": [
        "Image(url= \"https://raw.githubusercontent.com/minsuk-heo/deeplearning/master/img/practice_cnn.png\", width=800, height=200)"
      ],
      "execution_count": null,
      "outputs": [
        {
          "output_type": "execute_result",
          "data": {
            "text/html": [
              "<img src=\"https://raw.githubusercontent.com/minsuk-heo/deeplearning/master/img/practice_cnn.png\" width=\"800\" height=\"200\"/>"
            ],
            "text/plain": [
              "<IPython.core.display.Image object>"
            ]
          },
          "metadata": {
            "tags": []
          },
          "execution_count": 18
        }
      ]
    },
    {
      "cell_type": "code",
      "metadata": {
        "id": "27-n36IxfxAy"
      },
      "source": [
        "import tensorflow as tf"
      ],
      "execution_count": null,
      "outputs": []
    },
    {
      "cell_type": "markdown",
      "metadata": {
        "id": "nQn1MhaMfxAy"
      },
      "source": [
        "### collect data"
      ]
    },
    {
      "cell_type": "code",
      "metadata": {
        "id": "i6HPC62UfxAz"
      },
      "source": [
        "(x_train, y_train), (x_test, y_test) = tf.keras.datasets.mnist.load_data()"
      ],
      "execution_count": null,
      "outputs": []
    },
    {
      "cell_type": "markdown",
      "metadata": {
        "id": "TMNFFB-mfxAz"
      },
      "source": [
        "train data has **60000** samples  \n",
        "test data has **10000** samples   \n",
        "every data is **28 * 28** pixels  \n",
        "\n",
        "below image shows 28*28 pixel image sample for hand written number '0' from MNIST data.  \n",
        "MNIST is gray scale image [0 to 255] for hand written number."
      ]
    },
    {
      "cell_type": "markdown",
      "metadata": {
        "id": "c3F_dVLOfxAz"
      },
      "source": [
        "![0 from MNIST](https://raw.githubusercontent.com/minsuk-heo/deeplearning/master/img/mnist_sample.png)"
      ]
    },
    {
      "cell_type": "markdown",
      "metadata": {
        "id": "1lKMX_npfxAz"
      },
      "source": [
        "### Split train data into train and validation data\n",
        "Split train data into train data and validation data, in order to check validation accuracy."
      ]
    },
    {
      "cell_type": "code",
      "metadata": {
        "id": "GIthD0PzfxAz"
      },
      "source": [
        "x_val  = x_train[50000:60000]\n",
        "x_train = x_train[0:50000]\n",
        "y_val  = y_train[50000:60000]\n",
        "y_train = y_train[0:50000]"
      ],
      "execution_count": null,
      "outputs": []
    },
    {
      "cell_type": "code",
      "metadata": {
        "id": "vy56V7ynfxAz",
        "outputId": "468b3186-67db-4dae-94ff-a198763ffe6f"
      },
      "source": [
        "print(\"train data has \" + str(x_train.shape[0]) + \" samples\")\n",
        "print(\"every train data is \" + str(x_train.shape[1]) \n",
        "      + \" * \" + str(x_train.shape[2]) + \" image\")"
      ],
      "execution_count": null,
      "outputs": [
        {
          "output_type": "stream",
          "text": [
            "train data has 50000 samples\n",
            "every train data is 28 * 28 image\n"
          ],
          "name": "stdout"
        }
      ]
    },
    {
      "cell_type": "code",
      "metadata": {
        "id": "hMJDh-7nfxA0",
        "outputId": "b8f5c73f-3fe3-4139-b532-3f5473f4a421"
      },
      "source": [
        "print(\"validation data has \" + str(x_val.shape[0]) + \" samples\")\n",
        "print(\"every train data is \" + str(x_val.shape[1]) \n",
        "      + \" * \" + str(x_train.shape[2]) + \" image\")"
      ],
      "execution_count": null,
      "outputs": [
        {
          "output_type": "stream",
          "text": [
            "validation data has 10000 samples\n",
            "every train data is 28 * 28 image\n"
          ],
          "name": "stdout"
        }
      ]
    },
    {
      "cell_type": "markdown",
      "metadata": {
        "id": "twQVzildfxA0"
      },
      "source": [
        "28 * 28 pixels has gray scale value from **0** to **255**"
      ]
    },
    {
      "cell_type": "code",
      "metadata": {
        "id": "UU9Zw3fGfxA0",
        "outputId": "40b9eb50-bb47-4795-eb47-7a6d19926388"
      },
      "source": [
        "# sample to show gray scale values\n",
        "print(x_train[0][8])"
      ],
      "execution_count": null,
      "outputs": [
        {
          "output_type": "stream",
          "text": [
            "[  0   0   0   0   0   0   0  18 219 253 253 253 253 253 198 182 247 241\n",
            "   0   0   0   0   0   0   0   0   0   0]\n"
          ],
          "name": "stdout"
        }
      ]
    },
    {
      "cell_type": "markdown",
      "metadata": {
        "id": "nVpyZBeVfxA0"
      },
      "source": [
        "each train data has its label **0** to **9**"
      ]
    },
    {
      "cell_type": "code",
      "metadata": {
        "id": "yJxuRz8rfxA0",
        "outputId": "467b8aa9-9102-493e-f813-c920db19fa2f"
      },
      "source": [
        "# sample to show labels for first train data to 10th train data\n",
        "print(y_train[0:9])"
      ],
      "execution_count": null,
      "outputs": [
        {
          "output_type": "stream",
          "text": [
            "[5 0 4 1 9 2 1 3 1]\n"
          ],
          "name": "stdout"
        }
      ]
    },
    {
      "cell_type": "markdown",
      "metadata": {
        "id": "hQsoKNqQfxA1"
      },
      "source": [
        "test data has **10000** samples  \n",
        "every test data is **28 * 28** image  "
      ]
    },
    {
      "cell_type": "code",
      "metadata": {
        "id": "fX1McJqqfxA1",
        "outputId": "3fbda7c0-68ec-4dcb-bba1-dcde330efd6c"
      },
      "source": [
        "print(\"test data has \" + str(x_test.shape[0]) + \" samples\")\n",
        "print(\"every test data is \" + str(x_test.shape[1]) \n",
        "      + \" * \" + str(x_test.shape[2]) + \" image\")"
      ],
      "execution_count": null,
      "outputs": [
        {
          "output_type": "stream",
          "text": [
            "test data has 10000 samples\n",
            "every test data is 28 * 28 image\n"
          ],
          "name": "stdout"
        }
      ]
    },
    {
      "cell_type": "markdown",
      "metadata": {
        "id": "O_2ROO_WfxA1"
      },
      "source": [
        "### Reshape\n",
        "We reshape x_train to be fitted in tf model."
      ]
    },
    {
      "cell_type": "code",
      "metadata": {
        "id": "YAtrWtmVfxA1",
        "outputId": "dca82cc0-7f0e-4a4f-f03c-c61e1c8b3a09"
      },
      "source": [
        "import numpy as np\n",
        "x_train = np.reshape(x_train, (50000,28,28,1))\n",
        "x_val = np.reshape(x_val, (10000,28,28,1))\n",
        "x_test = np.reshape(x_test, (10000,28,28,1))\n",
        "\n",
        "print(x_train.shape)\n",
        "print(x_test.shape)"
      ],
      "execution_count": null,
      "outputs": [
        {
          "output_type": "stream",
          "text": [
            "(50000, 28, 28, 1)\n",
            "(10000, 28, 28, 1)\n"
          ],
          "name": "stdout"
        }
      ]
    },
    {
      "cell_type": "markdown",
      "metadata": {
        "id": "hZcOodFsfxA1"
      },
      "source": [
        "### Normalize data\n",
        "normalization usually helps faster learning speed, better performance  \n",
        "by reducing variance and giving same range to all input features.  \n",
        "since MNIST data set all input has 0 to 255, normalization only helps reducing variances.  \n",
        "it turned out normalization is better than standardization for MNIST data with my MLP architeture,    \n",
        "I believe this is because relu handles 0 differently on both feed forward and back propagation.  \n",
        "handling 0 differently is important for MNIST, since 1-255 means there is some hand written,  \n",
        "while 0 means no hand written on that pixel."
      ]
    },
    {
      "cell_type": "code",
      "metadata": {
        "id": "bnlZ1zQzfxA2"
      },
      "source": [
        "x_train = x_train.astype('float32')\n",
        "x_val = x_val.astype('float32')\n",
        "x_test = x_test.astype('float32')\n",
        "\n",
        "gray_scale = 255\n",
        "x_train /= gray_scale\n",
        "x_val /= gray_scale\n",
        "x_test /= gray_scale"
      ],
      "execution_count": null,
      "outputs": []
    },
    {
      "cell_type": "markdown",
      "metadata": {
        "id": "tmM_fMBCfxA2"
      },
      "source": [
        "### label to one hot encoding value\n",
        "In order to measure difference between softmax output and target,  \n",
        "target value need to be one hot encoding."
      ]
    },
    {
      "cell_type": "code",
      "metadata": {
        "id": "MbpLRWbgfxA2"
      },
      "source": [
        "num_classes = 10\n",
        "y_train = tf.keras.utils.to_categorical(y_train, num_classes)\n",
        "y_val = tf.keras.utils.to_categorical(y_val, num_classes)\n",
        "y_test = tf.keras.utils.to_categorical(y_test, num_classes)"
      ],
      "execution_count": null,
      "outputs": []
    },
    {
      "cell_type": "markdown",
      "metadata": {
        "id": "DGT7PonPfxA2"
      },
      "source": [
        "### Implement CNN tensorflow graph"
      ]
    },
    {
      "cell_type": "code",
      "metadata": {
        "id": "M-ZhLXX0fxA2",
        "outputId": "83784ff7-908b-49d9-e5d9-2a52567a6c78"
      },
      "source": [
        "Image(url= \"https://raw.githubusercontent.com/minsuk-heo/deeplearning/master/img/practice_cnn.png\", width=800, height=200)"
      ],
      "execution_count": null,
      "outputs": [
        {
          "output_type": "execute_result",
          "data": {
            "text/html": [
              "<img src=\"https://raw.githubusercontent.com/minsuk-heo/deeplearning/master/img/practice_cnn.png\" width=\"800\" height=\"200\"/>"
            ],
            "text/plain": [
              "<IPython.core.display.Image object>"
            ]
          },
          "metadata": {
            "tags": []
          },
          "execution_count": 30
        }
      ]
    },
    {
      "cell_type": "markdown",
      "metadata": {
        "id": "MYoWz7z8fxA2"
      },
      "source": [
        "We use image itself (28 x 28) as input of CNN.\n",
        "Target will be number between 0 to 9."
      ]
    },
    {
      "cell_type": "code",
      "metadata": {
        "id": "1rGymDj0fxA3"
      },
      "source": [
        "x = tf.placeholder(tf.float32, shape=[None, 28, 28, 1])\n",
        "y_ = tf.placeholder(tf.float32, shape=[None, 10])"
      ],
      "execution_count": null,
      "outputs": []
    },
    {
      "cell_type": "markdown",
      "metadata": {
        "id": "oZAkmriLfxA3"
      },
      "source": [
        "We initialize parameters near 0.  \n",
        "The point for using **truncated normal** is to overcome saturation of sigmoid in softmax (where if the value is too big/small, the neuron stops learning).  \n",
        "tf.truncated_normal() selects random numbers from a normal distribution whose mean is close to 0 and values are close to 0 Ex. -0.1 to 0.1.  \n",
        "It's called truncated because your cutting off the tails from a normal distribution.  \n",
        "**tf.random_normal()** selects random numbers from a normal distribution whose mean is close to 0; however the values can be a bit further apart. Ex. -2 to 2  "
      ]
    },
    {
      "cell_type": "code",
      "metadata": {
        "id": "Dx0j3vd1fxA3"
      },
      "source": [
        "def weight_variable(shape):\n",
        "  initial = tf.truncated_normal(shape, stddev=0.1)\n",
        "  return tf.Variable(initial)\n",
        "\n",
        "def bias_variable(shape):\n",
        "  initial = tf.constant(0.1, shape=shape)\n",
        "  return tf.Variable(initial)"
      ],
      "execution_count": null,
      "outputs": []
    },
    {
      "cell_type": "markdown",
      "metadata": {
        "id": "YDMEaEywfxA3"
      },
      "source": [
        "**Same padding** means the size of output feature-maps are the same as the input feature-maps.  \n",
        "For example, our MNIST has (28x28) shape, so the output will also (28,28) shape."
      ]
    },
    {
      "cell_type": "code",
      "metadata": {
        "id": "GIS-gBK_fxA3"
      },
      "source": [
        "def conv2d(x, W):\n",
        "  return tf.nn.conv2d(x, W, strides=[1, 1, 1, 1], padding='SAME')\n",
        "\n",
        "def max_pool_2x2(x):\n",
        "  return tf.nn.max_pool(x, ksize=[1, 2, 2, 1],\n",
        "                        strides=[1, 2, 2, 1], padding='SAME')"
      ],
      "execution_count": null,
      "outputs": []
    },
    {
      "cell_type": "markdown",
      "metadata": {
        "id": "E0vQbtlMfxA3"
      },
      "source": [
        "First Convolutional Layer has 16 filters with size 5 by 5.  "
      ]
    },
    {
      "cell_type": "code",
      "metadata": {
        "id": "tj2C6gxXfxA4"
      },
      "source": [
        "W_conv1 = weight_variable([5, 5, 1, 16])\n",
        "b_conv1 = bias_variable([16])"
      ],
      "execution_count": null,
      "outputs": []
    },
    {
      "cell_type": "markdown",
      "metadata": {
        "id": "_tpYlMBwfxA4"
      },
      "source": [
        "We use Relu activation funtion. Activation function brings non linearity in the model."
      ]
    },
    {
      "cell_type": "code",
      "metadata": {
        "id": "s_6IW1aafxA4"
      },
      "source": [
        "h_conv1 = tf.nn.relu(conv2d(x, W_conv1) + b_conv1)"
      ],
      "execution_count": null,
      "outputs": []
    },
    {
      "cell_type": "markdown",
      "metadata": {
        "id": "If4X98RwfxA4"
      },
      "source": [
        "After Convolutional Layer, we apply Pooling layer to reduce activation map size.  \n",
        "Pooling layer will reduce parameters and control overfitting."
      ]
    },
    {
      "cell_type": "code",
      "metadata": {
        "id": "nsKpFf6tfxA4"
      },
      "source": [
        "h_pool1 = max_pool_2x2(h_conv1)"
      ],
      "execution_count": null,
      "outputs": []
    },
    {
      "cell_type": "markdown",
      "metadata": {
        "id": "dQOY4KbXfxA4"
      },
      "source": [
        "After Max Pooling, now we have (14,14) input shape.  \n",
        "Here we have second Convolutional layer."
      ]
    },
    {
      "cell_type": "code",
      "metadata": {
        "id": "tx9snEMafxA4"
      },
      "source": [
        "W_conv2 = weight_variable([5, 5, 16, 32])\n",
        "b_conv2 = bias_variable([32])\n",
        "\n",
        "h_conv2 = tf.nn.relu(conv2d(h_pool1, W_conv2) + b_conv2)\n",
        "h_pool2 = max_pool_2x2(h_conv2)"
      ],
      "execution_count": null,
      "outputs": []
    },
    {
      "cell_type": "markdown",
      "metadata": {
        "id": "hKJGsQqRfxA5"
      },
      "source": [
        "After Max Pooling, now we have (7,7) input shape.\n",
        "#### FC (Fully Connected Layer)\n",
        "here is FC where we use activation maps from CONV as features for digit classification.  \n",
        "You can find, we flatten the activation map pixels to one array in order to input to FC."
      ]
    },
    {
      "cell_type": "code",
      "metadata": {
        "id": "orGo-R35fxA5"
      },
      "source": [
        "W_fc1 = weight_variable([7 * 7 * 32, 128])\n",
        "b_fc1 = bias_variable([128])\n",
        "\n",
        "h_pool2_flat = tf.reshape(h_pool2, [-1, 7*7*32])\n",
        "h_fc1 = tf.nn.relu(tf.matmul(h_pool2_flat, W_fc1) + b_fc1)"
      ],
      "execution_count": null,
      "outputs": []
    },
    {
      "cell_type": "markdown",
      "metadata": {
        "id": "KjYP1626fxA5"
      },
      "source": [
        "FC has two hidden layers. first hidden layer has 128 nodes, and second hidden layer has 10 nodes in order to match with our target range 0 to 9."
      ]
    },
    {
      "cell_type": "code",
      "metadata": {
        "id": "Z66fxJsrfxA5"
      },
      "source": [
        "W_fc2 = weight_variable([128, 10])\n",
        "b_fc2 = bias_variable([10])\n",
        "\n",
        "y_conv = tf.matmul(h_fc1, W_fc2) + b_fc2"
      ],
      "execution_count": null,
      "outputs": []
    },
    {
      "cell_type": "markdown",
      "metadata": {
        "id": "S2q0AWOPfxA5"
      },
      "source": [
        "We will use cross entropy as our loss function."
      ]
    },
    {
      "cell_type": "code",
      "metadata": {
        "id": "R6MUJeFsfxA5"
      },
      "source": [
        "cross_entropy = tf.reduce_mean(\n",
        "    tf.nn.softmax_cross_entropy_with_logits_v2(labels=y_, logits=y_conv))"
      ],
      "execution_count": null,
      "outputs": []
    },
    {
      "cell_type": "markdown",
      "metadata": {
        "id": "hDoqOq6HfxA5"
      },
      "source": [
        "We will use Adam Optimizer as our parameters optimizer."
      ]
    },
    {
      "cell_type": "code",
      "metadata": {
        "id": "i6AR3i6ifxA6"
      },
      "source": [
        "train_step = tf.train.AdamOptimizer(0.001).minimize(cross_entropy)"
      ],
      "execution_count": null,
      "outputs": []
    },
    {
      "cell_type": "markdown",
      "metadata": {
        "id": "GviPtoL_fxA6"
      },
      "source": [
        "Accuracy will be from below code block."
      ]
    },
    {
      "cell_type": "code",
      "metadata": {
        "id": "eXpkZDqqfxA6"
      },
      "source": [
        "correct_prediction = tf.equal(tf.argmax(y_conv,1), tf.argmax(y_,1))\n",
        "accuracy = tf.reduce_mean(tf.cast(correct_prediction, tf.float32))"
      ],
      "execution_count": null,
      "outputs": []
    },
    {
      "cell_type": "markdown",
      "metadata": {
        "id": "iku5j6RYfxA6"
      },
      "source": [
        "#### Train and Test\n",
        "Here we go.  \n",
        "We will perform 3 epoches.  \n",
        "Using Mini Batch, we will optimize parameters everytime we pass 500 train data to the model."
      ]
    },
    {
      "cell_type": "code",
      "metadata": {
        "id": "FKm5q9DyfxA6",
        "outputId": "705b98a1-5151-4de2-80b4-e5b643d1aafd"
      },
      "source": [
        "# initialize\n",
        "init = tf.global_variables_initializer()\n",
        "\n",
        "# train hyperparameters\n",
        "epoch_cnt = 3\n",
        "batch_size = 500\n",
        "iteration = len(x_train) // batch_size\n",
        "\n",
        "# Start training\n",
        "with tf.Session() as sess:\n",
        "    tf.set_random_seed(777)\n",
        "    # Run the initializer\n",
        "    sess.run(init)\n",
        "    for epoch in range(epoch_cnt):\n",
        "        avg_loss = 0.\n",
        "        start = 0; end = batch_size\n",
        "        \n",
        "        for i in range(iteration):\n",
        "            if i%10 == 0:\n",
        "                train_accuracy = accuracy.eval(feed_dict={x:x_train[start: end], y_: y_train[start: end]})\n",
        "                print(\"step \"+ str(i) + \": training accuracy: \"+str(train_accuracy))\n",
        "            train_step.run(feed_dict={x:x_train[start: end], y_: y_train[start: end]})\n",
        "            start += batch_size; end += batch_size    \n",
        "        \n",
        "        # Validate model\n",
        "        val_accuracy = accuracy.eval(feed_dict={x:x_val, y_: y_val})\n",
        "        print(\"validation accuracy: \"+str(val_accuracy))\n",
        "        \n",
        "    test_accuracy = accuracy.eval(feed_dict={x:x_test, y_: y_test}) \n",
        "    print(\"test accuracy: \"+str(test_accuracy))"
      ],
      "execution_count": null,
      "outputs": [
        {
          "output_type": "stream",
          "text": [
            "step 0: training accuracy: 0.1\n",
            "step 10: training accuracy: 0.616\n",
            "step 20: training accuracy: 0.818\n",
            "step 30: training accuracy: 0.836\n",
            "step 40: training accuracy: 0.89\n",
            "step 50: training accuracy: 0.876\n",
            "step 60: training accuracy: 0.9\n",
            "step 70: training accuracy: 0.926\n",
            "step 80: training accuracy: 0.932\n",
            "step 90: training accuracy: 0.918\n",
            "validation accuracy: 0.944\n",
            "step 0: training accuracy: 0.938\n",
            "step 10: training accuracy: 0.948\n",
            "step 20: training accuracy: 0.94\n",
            "step 30: training accuracy: 0.944\n",
            "step 40: training accuracy: 0.948\n",
            "step 50: training accuracy: 0.954\n",
            "step 60: training accuracy: 0.958\n",
            "step 70: training accuracy: 0.962\n",
            "step 80: training accuracy: 0.968\n",
            "step 90: training accuracy: 0.956\n",
            "validation accuracy: 0.9699\n",
            "step 0: training accuracy: 0.966\n",
            "step 10: training accuracy: 0.962\n",
            "step 20: training accuracy: 0.946\n",
            "step 30: training accuracy: 0.962\n",
            "step 40: training accuracy: 0.972\n",
            "step 50: training accuracy: 0.974\n",
            "step 60: training accuracy: 0.98\n",
            "step 70: training accuracy: 0.972\n",
            "step 80: training accuracy: 0.984\n",
            "step 90: training accuracy: 0.974\n",
            "validation accuracy: 0.9755\n",
            "test accuracy: 0.9744\n"
          ],
          "name": "stdout"
        }
      ]
    },
    {
      "cell_type": "markdown",
      "metadata": {
        "id": "RWSm0iS-fxA6"
      },
      "source": [
        "You got test accuracy **97.4%** with even just **3** epoches.\n",
        "I wish you enjoyed learning CNN. Thanks!"
      ]
    },
    {
      "cell_type": "code",
      "metadata": {
        "id": "pfMZHoiEfxA7"
      },
      "source": [
        ""
      ],
      "execution_count": null,
      "outputs": []
    }
  ]
}